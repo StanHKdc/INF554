{
 "cells": [
  {
   "cell_type": "code",
   "execution_count": 1,
   "metadata": {},
   "outputs": [],
   "source": [
    "import os\n",
    "import string\n",
    "import nltk\n",
    "import numpy as np"
   ]
  },
  {
   "cell_type": "code",
   "execution_count": 2,
   "metadata": {},
   "outputs": [],
   "source": [
    "# nltk.download('stopwords')\n",
    "from nltk.corpus import stopwords"
   ]
  },
  {
   "cell_type": "code",
   "execution_count": 4,
   "metadata": {},
   "outputs": [],
   "source": [
    "class InvertedIndex:\n",
    "    \n",
    "    abstractID = 'null'\n",
    "    length = 0\n",
    "    dictionary = {}\n",
    "    words = []\n",
    "    text = ''\n",
    "\n",
    "    def __init__(self, line):\n",
    "        \n",
    "        line_splited = line.split('----')\n",
    "        self.abstractID = line_splited[0]\n",
    "\n",
    "        big_dict = ''\n",
    "        for i in range(1,len(line_splited)):\n",
    "            big_dict = big_dict + line_splited[i]\n",
    "        \n",
    "        big_dict = eval(big_dict)\n",
    "        self.length = big_dict['IndexLength']\n",
    "        self.dictionary = dict(big_dict['InvertedIndex'])\n",
    "        self.words = list(self.dictionary.keys())\n",
    "        self.text = ' '.join(self.words)\n",
    "    \n",
    "    def clean_words(self):\n",
    "        table = str.maketrans('','',string.punctuation)\n",
    "        clean_words = [w.translate(table) for w in self.words]\n",
    "        return clean_words\n",
    "    \n",
    "    def clean_text(self):\n",
    "        txt = self.text\n",
    "        txt = txt.translate(str.maketrans(string.punctuation+'\\n'+'\\r', ' '*len(string.punctuation+'\\n'+'\\r')))\n",
    "        txt = txt.lower()\n",
    "        txt = txt.split()\n",
    "        return txt\n",
    "    \n",
    "    def key_words(self):\n",
    "        txt = self.text\n",
    "        txt = txt.translate(str.maketrans(string.punctuation+'\\n'+'\\r', ' '*len(string.punctuation+'\\n'+'\\r')))\n",
    "        txt = txt.lower()\n",
    "        txt = txt.split()\n",
    "        stop_words = set(stopwords.words('english'))\n",
    "        txt = [w for w in txt if not w in stop_words]\n",
    "        return txt\n"
   ]
  },
  {
   "cell_type": "code",
   "execution_count": 5,
   "metadata": {},
   "outputs": [],
   "source": [
    "# abstracts = open('data/abstracts.txt','r')\n",
    "# lines = abstracts.readlines()\n",
    "# print(InvertedIndex(lines[0]).clean_words())"
   ]
  },
  {
   "cell_type": "code",
   "execution_count": 10,
   "metadata": {},
   "outputs": [],
   "source": [
    "def cleanAbstracts():\n",
    "    dirty_abstracts = open('data/abstracts.txt','r')\n",
    "    clean_abstracts = open('data/abstractsClean.txt','w')\n",
    "\n",
    "    lines = dirty_abstracts.readlines()\n",
    "\n",
    "    for line in lines:\n",
    "        abs = InvertedIndex(line)\n",
    "        clean_line = abs.abstractID+' : '+';'.join(abs.key_words())+'\\n'\n",
    "        clean_abstracts.write(clean_line)\n",
    "\n",
    "    dirty_abstracts.close()\n",
    "    clean_abstracts.close()"
   ]
  },
  {
   "cell_type": "code",
   "execution_count": 11,
   "metadata": {},
   "outputs": [],
   "source": [
    "cleanAbstracts()"
   ]
  }
 ],
 "metadata": {
  "interpreter": {
   "hash": "d190daf6c967f8d20238722b0f8124df8ccbc3ae5a4dde14ddcb79cb9594df45"
  },
  "kernelspec": {
   "display_name": "Python 3.9.7 64-bit ('nlp': conda)",
   "language": "python",
   "name": "python3"
  },
  "language_info": {
   "codemirror_mode": {
    "name": "ipython",
    "version": 3
   },
   "file_extension": ".py",
   "mimetype": "text/x-python",
   "name": "python",
   "nbconvert_exporter": "python",
   "pygments_lexer": "ipython3",
   "version": "3.9.7"
  },
  "orig_nbformat": 4
 },
 "nbformat": 4,
 "nbformat_minor": 2
}
