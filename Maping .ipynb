{
 "cells": [
  {
   "cell_type": "code",
   "execution_count": 51,
   "metadata": {},
   "outputs": [],
   "source": [
    "import pandas as pd\n",
    "import numpy as np "
   ]
  },
  {
   "cell_type": "code",
   "execution_count": 123,
   "metadata": {},
   "outputs": [
    {
     "name": "stdout",
     "output_type": "stream",
     "text": [
      "     0       1        2        3      4\n",
      "0  199  'chat'  'chien'  'poney'  'non'\n",
      "1  200  'chat'  'chien'    'oui'   None\n"
     ]
    }
   ],
   "source": [
    "test=pd.read_csv(\"test.txt\", sep='[:,]',header=None, engine=\"python\")\n",
    "\n",
    "print(test)\n"
   ]
  },
  {
   "cell_type": "code",
   "execution_count": 124,
   "metadata": {},
   "outputs": [],
   "source": [
    "def maping(text):\n",
    "    List_word=[]\n",
    "    List_article=[]\n",
    "    d={}\n",
    "    for line in range(text.shape[0]):\n",
    "        for column in range(1,text.shape[1]):\n",
    "            \n",
    "            if text[column][line]!=None:\n",
    "                if text[column][line] in d:\n",
    "                    d.update({text[column][line]:d[text[column][line]]+[text[0][line]]})\n",
    "                if text[column][line] in List_word:\n",
    "                    List_article[List_word.index(text[column][line])].append(text[0][line])\n",
    "                else:\n",
    "                    d.update({text[column][line]:[text[0][line]]})\n",
    "                    List_word.append(text[column][line])\n",
    "                    List_article.append([text[0][line]])\n",
    "    word=np.array([List_word])\n",
    "    article=np.array([List_article],dtype=object)\n",
    "    return(d,article)"
   ]
  },
  {
   "cell_type": "code",
   "execution_count": 125,
   "metadata": {},
   "outputs": [
    {
     "name": "stdout",
     "output_type": "stream",
     "text": [
      "{\"'chat'\": [199, 200], \"'chien'\": [199, 200], \"'poney'\": [199], \"'non'\": [199], \"'oui'\": [200]}\n"
     ]
    }
   ],
   "source": [
    "A,B=maping(test)\n",
    "print(A)"
   ]
  }
 ],
 "metadata": {
  "kernelspec": {
   "display_name": "Python 3",
   "language": "python",
   "name": "python3"
  },
  "language_info": {
   "codemirror_mode": {
    "name": "ipython",
    "version": 3
   },
   "file_extension": ".py",
   "mimetype": "text/x-python",
   "name": "python",
   "nbconvert_exporter": "python",
   "pygments_lexer": "ipython3",
   "version": "3.8.1"
  },
  "latex_envs": {
   "LaTeX_envs_menu_present": true,
   "autoclose": false,
   "autocomplete": false,
   "bibliofile": "biblio.bib",
   "cite_by": "apalike",
   "current_citInitial": 1,
   "eqLabelWithNumbers": true,
   "eqNumInitial": 1,
   "hotkeys": {
    "equation": "Ctrl-E",
    "itemize": "Ctrl-I"
   },
   "labels_anchors": false,
   "latex_user_defs": false,
   "report_style_numbering": false,
   "user_envs_cfg": false
  }
 },
 "nbformat": 4,
 "nbformat_minor": 4
}
