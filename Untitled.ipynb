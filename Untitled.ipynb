{
 "cells": [
  {
   "cell_type": "code",
   "execution_count": 109,
   "id": "1960f550",
   "metadata": {},
   "outputs": [],
   "source": [
    "import torch\n",
    "import numpy as np \n",
    "from torch_geometric.data import Data\n",
    "from torch.nn import Linear\n",
    "import torch.nn.functional as F \n",
    "from torch_geometric.nn import GCNConv, TopKPooling, global_mean_pool\n",
    "from torch_geometric.nn import global_mean_pool as gap, global_max_pool as gmp\n",
    "from torch_geometric.datasets import Planetoid\n",
    "from torch_geometric.transforms import NormalizeFeatures"
   ]
  },
  {
   "cell_type": "code",
   "execution_count": 132,
   "id": "3701929a",
   "metadata": {},
   "outputs": [
    {
     "name": "stdout",
     "output_type": "stream",
     "text": [
      "tensor([0.2000, 0.2000, 0.2000])\n"
     ]
    }
   ],
   "source": [
    "x=torch.tensor([[0.1,0.1,0.1],[0.2,0.2,0.2],[0.3,0.3,0.3],[0.1,0.1,0.1],[0.4,0.4,0.4]])\n",
    "# X c'est les features des noeuds : une table de features = un noeud, il faut mettre les features des auteurs ici en \n",
    "# connaissant l'équivalent indices/auteurs pour pouvoir les retrouver \n",
    "# Exemple : [0.2,0.2,0.2] correspond au 2ème auteur et les valeurs sont ses features \n",
    "print(x[1])\n",
    "\n",
    "y=torch.tensor([0.1,0.2,0.3,0.1,0])\n",
    "# Correspond aux valeurs recherchées : il faut en mettre POUR TOUT LES AUTEURS MEME LES PAS CONNUS (de ce que j'ai vu ça influence pas)\n",
    "\n",
    "\n",
    "train_mask=torch.tensor([True,True,True,True,False])\n",
    "# Correspond à la table des h connus ou non (sur lesquels on va s'entrainer) ce qu'on peut faire \n",
    "# c'est (pour vérifier que ça marche) mettre true sur 80% du train et false sur 20% \n",
    "# et on test sur les 20% qu'on connait pas déjà mais dont on a les solutions pour vérifier\n",
    "\n",
    "test_mask=torch.tensor([False,False,False,False,True])\n",
    "# Opposé de train (les valeurs sur lesquelles on veut faire le test)\n",
    "\n",
    "edge_index=torch.tensor([[0,0,0,0,1,1,1,1,2,2,2,2,3,3,3,3,4,4,4,4],[1,2,3,4,0,2,3,4,0,1,3,4,0,1,2,4,0,1,2,3]])\n",
    "\n",
    "# Table de taille [2,nombre de liens] qui representent TOUT les liens entre les noeuds (il faut les foutre dans les deux sens)\n",
    "#Genre  (0,1) et (1,0) c'est pas pareil\n",
    "\n",
    "\n",
    "testset=Data(x=x,y=y,edge_index=edge_index,classes=1,test_mask=test_mask,train_mask=train_mask)\n",
    "\n",
    "#definition de la table data\n",
    "\n",
    "classes=1  # On dit qu'il y a qu'une classe à chercher (le h ici)\n",
    "num_features=testset.num_features  #Donne le nombre de features pour chaque noeud\n",
    "\n",
    "\n"
   ]
  },
  {
   "cell_type": "code",
   "execution_count": 133,
   "id": "b53317a6",
   "metadata": {},
   "outputs": [
    {
     "name": "stdout",
     "output_type": "stream",
     "text": [
      "GCN(\n",
      "  (conv1): GCNConv(3, 16)\n",
      "  (conv2): GCNConv(16, 16)\n",
      "  (conv3): GCNConv(16, 16)\n",
      "  (out): Linear(in_features=16, out_features=1, bias=True)\n",
      ")\n"
     ]
    }
   ],
   "source": [
    "import torch\n",
    "from torch.nn import Linear\n",
    "import torch.nn.functional as F\n",
    "from torch_geometric.nn import GCNConv #GATConv\n",
    "\n",
    "class GCN(torch.nn.Module):\n",
    "    def __init__(self, hidden_channels):\n",
    "        super(GCN, self).__init__()\n",
    "        torch.manual_seed(42)\n",
    "\n",
    "        # Initialize the layers\n",
    "        self.conv1 = GCNConv(num_features, hidden_channels) # Entrée du réseau : taille  features to hidden\n",
    "        self.conv2 = GCNConv(hidden_channels, hidden_channels)   # Autre niveau hiddent to hidden\n",
    "        self.conv3 = GCNConv(hidden_channels, hidden_channels)   # On fait 3 niveau ici mais on peut en rajouter tjr celon le même schéma\n",
    "        self.out = Linear(hidden_channels, classes)     # Sortie du résau : hidden to taille de la classe, ici 1 \n",
    "\n",
    "    def forward(self, x, edge_index):\n",
    "        # First Message Passing Layer (Transformation)\n",
    "        x = self.conv1(x, edge_index)  \n",
    "        x=F.tanh(x)\n",
    "        #x = x.relu()   J'ai changé la fonction à voir si certaines marchent mieux que d'autres \n",
    "       # x = F.dropout(x, p=0.5, training=self.training)  On peut laisser ça pour essayer ou non, dans mon exemple j'avais pas assez de donnés pour le tej\n",
    "\n",
    "        # Second Message Passing Layer\n",
    "        x = self.conv2(x, edge_index)\n",
    "        x=F.tanh(x)\n",
    "        #x = x.relu() #Autre fonction à tester ici \n",
    "        #x = F.dropout(x, p=0.5, training=self.training)\n",
    "        \n",
    "        x = self.conv3(x, edge_index)\n",
    "        x=F.tanh(x)\n",
    "        #x = x.relu()\n",
    "        #x = F.dropout(x, p=0.5, training=self.training)\n",
    "\n",
    "        # Output layer \n",
    "        x = self.out(x) #Peut rajouter autre chose ici \n",
    "        return x\n",
    "\n",
    "model = GCN(hidden_channels=16) #On peut changer la tailles des embedings ici (surtout dans notre cas ce sera plus grand je pense)\n",
    "print(model)"
   ]
  },
  {
   "cell_type": "code",
   "execution_count": 134,
   "id": "bb6b9b68",
   "metadata": {},
   "outputs": [
    {
     "name": "stderr",
     "output_type": "stream",
     "text": [
      "C:\\Users\\gregl\\anaconda3\\lib\\site-packages\\torch\\nn\\modules\\loss.py:520: UserWarning: Using a target size (torch.Size([4])) that is different to the input size (torch.Size([4, 1])). This will likely lead to incorrect results due to broadcasting. Please ensure they have the same size.\n",
      "  return F.mse_loss(input, target, reduction=self.reduction)\n"
     ]
    },
    {
     "name": "stdout",
     "output_type": "stream",
     "text": [
      "Epoch: 000, Loss: 0.2689\n",
      "Epoch: 100, Loss: 0.0829\n",
      "Epoch: 200, Loss: 0.0829\n",
      "Epoch: 300, Loss: 0.0829\n",
      "Epoch: 400, Loss: 0.0829\n",
      "Epoch: 500, Loss: 0.0829\n",
      "Epoch: 600, Loss: 0.0829\n",
      "Epoch: 700, Loss: 0.0829\n",
      "Epoch: 800, Loss: 0.0829\n",
      "Epoch: 900, Loss: 0.0829\n",
      "Epoch: 1000, Loss: 0.0829\n"
     ]
    }
   ],
   "source": [
    "# Initialize model\n",
    "model = GCN(hidden_channels=16)  #Taille des embedings\n",
    "\n",
    "# Use GPU # \"cuda:0\" if torch.cuda.is_available() else on peut mettre cette commande devant le \"cpu\" dans le torch.device pour que ça tourne sur GPU mais moi ça marche pô\n",
    "device = torch.device(\"cpu\")\n",
    "model = model.to(device)\n",
    "testset = testset.to(device)\n",
    "\n",
    "# Initialize Optimizer\n",
    "learning_rate = 0.01\n",
    "decay = 5e-4\n",
    "optimizer = torch.optim.Adam(model.parameters(), \n",
    "                             lr=learning_rate, \n",
    "                             weight_decay=decay)\n",
    "loss_fn = torch.nn.MSELoss()    # On calcul la perte avec MSE \n",
    "\n",
    "\n",
    "def train():\n",
    "    model.train()\n",
    "    optimizer.zero_grad() \n",
    "      # Use all data as input, because all nodes have node features\n",
    "    out = model(testset.x, testset.edge_index)  \n",
    "      # Only use nodes with labels available for loss calculation --> mask\n",
    "    loss = torch.sqrt(loss_fn(out[testset.train_mask], testset.y[testset.train_mask]))  \n",
    "    loss.backward() \n",
    "    optimizer.step()\n",
    "    return loss\n",
    "\n",
    "def test():\n",
    "    model.eval()\n",
    "    out = model(testset.x, testset.edge_index)\n",
    "    # Use the class with highest probability.\n",
    "    pred = out  \n",
    "    # Check against ground-truth labels.\n",
    "    test_correct = pred[testset.test_mask] == testset.y[testset.test_mask]  \n",
    "    print(pred[testset.test_mask])\n",
    "    print(testset.y[testset.test_mask] )\n",
    "    # Derive ratio of correct predictions.\n",
    "    test_acc = int(test_correct.sum()) / int(testset.test_mask.sum())  \n",
    "    return test_acc\n",
    "\n",
    "losses = []\n",
    "for epoch in range(0, 1001):\n",
    "    loss = train()\n",
    "    losses.append(loss)\n",
    "    if epoch % 100 == 0:\n",
    "        print(f'Epoch: {epoch:03d}, Loss: {loss:.4f}')"
   ]
  },
  {
   "cell_type": "code",
   "execution_count": 135,
   "id": "76a841a0",
   "metadata": {},
   "outputs": [
    {
     "name": "stderr",
     "output_type": "stream",
     "text": [
      "C:\\Users\\gregl\\anaconda3\\lib\\site-packages\\seaborn\\_decorators.py:36: FutureWarning: Pass the following variables as keyword args: x, y. From version 0.12, the only valid positional argument will be `data`, and passing other arguments without an explicit keyword will result in an error or misinterpretation.\n",
      "  warnings.warn(\n"
     ]
    },
    {
     "data": {
      "text/plain": [
       "<AxesSubplot:>"
      ]
     },
     "execution_count": 135,
     "metadata": {},
     "output_type": "execute_result"
    },
    {
     "data": {
      "image/png": "[encoded data removed]",
      "text/plain": [
       "<Figure size 432x288 with 1 Axes>"
      ]
     },
     "metadata": {
      "needs_background": "light"
     },
     "output_type": "display_data"
    }
   ],
   "source": [
    "import seaborn as sns\n",
    "losses_float = [float(loss.cpu().detach().numpy()) for loss in losses] \n",
    "loss_indices = [i for i,l in enumerate(losses_float)] \n",
    "plt = sns.lineplot(loss_indices, losses_float)\n",
    "plt"
   ]
  },
  {
   "cell_type": "code",
   "execution_count": 136,
   "id": "83dd2a25",
   "metadata": {},
   "outputs": [
    {
     "name": "stdout",
     "output_type": "stream",
     "text": [
      "tensor([[0.1750]], grad_fn=<IndexBackward0>)\n",
      "tensor([0.])\n",
      "Test Accuracy: 0.0000\n"
     ]
    },
    {
     "name": "stderr",
     "output_type": "stream",
     "text": [
      "C:\\Users\\gregl\\anaconda3\\lib\\site-packages\\torch\\nn\\functional.py:1795: UserWarning: nn.functional.tanh is deprecated. Use torch.tanh instead.\n",
      "  warnings.warn(\"nn.functional.tanh is deprecated. Use torch.tanh instead.\")\n"
     ]
    }
   ],
   "source": [
    "test_acc = test()\n",
    "print(f'Test Accuracy: {test_acc:.4f}')"
   ]
  },
  {
   "cell_type": "code",
   "execution_count": null,
   "id": "07dc67ff",
   "metadata": {},
   "outputs": [],
   "source": []
  }
 ],
 "metadata": {
  "kernelspec": {
   "display_name": "Python 3 (ipykernel)",
   "language": "python",
   "name": "python3"
  },
  "language_info": {
   "codemirror_mode": {
    "name": "ipython",
    "version": 3
   },
   "file_extension": ".py",
   "mimetype": "text/x-python",
   "name": "python",
   "nbconvert_exporter": "python",
   "pygments_lexer": "ipython3",
   "version": "3.9.7"
  },
  "latex_envs": {
   "LaTeX_envs_menu_present": true,
   "autoclose": false,
   "autocomplete": false,
   "bibliofile": "biblio.bib",
   "cite_by": "apalike",
   "current_citInitial": 1,
   "eqLabelWithNumbers": true,
   "eqNumInitial": 1,
   "hotkeys": {
    "equation": "Ctrl-E",
    "itemize": "Ctrl-I"
   },
   "labels_anchors": false,
   "latex_user_defs": false,
   "report_style_numbering": false,
   "user_envs_cfg": false
  }
 },
 "nbformat": 4,
 "nbformat_minor": 5
}
