{
 "cells": [
  {
   "cell_type": "code",
   "execution_count": null,
   "metadata": {},
   "outputs": [],
   "source": [
    "import os\n",
    "import pandas as pd\n",
    "import numpy as np\n",
    "import networkx as nx\n",
    "from sklearn.linear_model import Lasso\n",
    "from gensim.models.doc2vec import Doc2Vec"
   ]
  },
  {
   "cell_type": "code",
   "execution_count": null,
   "metadata": {},
   "outputs": [],
   "source": [
    "# read training data\n",
    "df_train = pd.read_csv('data/train.csv', dtype={'author': np.int64, 'hindex': np.float32})\n",
    "n_train = df_train.shape[0]\n",
    "print(\"n_train = \", n_train)\n",
    "\n",
    "# read test data\n",
    "df_test = pd.read_csv('data/test.csv', dtype={'author': np.int64})\n",
    "n_test = df_test.shape[0]\n",
    "print(\"n_test = \", n_test)\n",
    "\n",
    "# load the graph    \n",
    "G = nx.read_edgelist('data/coauthorship.edgelist', delimiter=' ', nodetype=int)\n",
    "n_nodes = G.number_of_nodes()\n",
    "n_edges = G.number_of_edges() \n",
    "print('Number of nodes:', n_nodes)\n",
    "print('Number of edges:', n_edges)"
   ]
  },
  {
   "cell_type": "code",
   "execution_count": null,
   "metadata": {},
   "outputs": [],
   "source": [
    "def buildMatrices():\n",
    "\n",
    "    # computes structural features for each node\n",
    "    core_number = nx.core_number(G)\n",
    "\n",
    "    # create the training matrix. each node is represented as a vector of 3 features:\n",
    "    # (1) its degree, (2) its core number \n",
    "    X_train = np.zeros((n_train, 2))\n",
    "    y_train = np.zeros(n_train)\n",
    "    for i,row in df_train.iterrows():\n",
    "        node = row['author']\n",
    "        X_train[i,0] = G.degree(node)\n",
    "        X_train[i,1] = core_number[node]\n",
    "        y_train[i] = row['hindex']\n",
    "\n",
    "    # create the test matrix. each node is represented as a vector of 3 features:\n",
    "    # (1) its degree, (2) its core number\n",
    "    X_test = np.zeros((n_test, 2))\n",
    "    for i,row in df_test.iterrows():\n",
    "        node = row['author']\n",
    "        X_test[i,0] = G.degree(node)\n",
    "        X_test[i,1] = core_number[node]\n",
    "    \n",
    "    return X_train,y_train,X_test\n"
   ]
  },
  {
   "cell_type": "code",
   "execution_count": null,
   "metadata": {},
   "outputs": [],
   "source": [
    "X_train,y_train,X_test = buildMatrices()"
   ]
  },
  {
   "cell_type": "code",
   "execution_count": 1,
   "metadata": {},
   "outputs": [],
   "source": [
    "def invertedIndex_to_txt(line):\n",
    "    splited = line.split('----')\n",
    "    id = splited[0]\n",
    "\n",
    "    splited = splited[1].split('{',2)\n",
    "    inverted_index = splited[2].split('\"')\n",
    "    print(inverted_index[1::2])\n",
    "    return id,inverted_index[1::2]\n",
    "\n",
    "def clean(list_of_words):\n",
    "    for word in list_of_words:\n",
    "        word = word.replace('.','')\n",
    "        word = word.replace('\\r','')\n",
    "        word = word.replace('\\n','')\n",
    "        word = word.lower()\n",
    "    return list_of_words\n",
    "\n",
    "def build_abstracts_words():\n",
    "    abstracts = open('data/abstracts.txt','r')\n",
    "    lines = abstracts.readlines()\n",
    "    abstracts_words = open('data/abstracts_words.txt','w')\n",
    "\n",
    "    for line in lines:\n",
    "        abstract_id, words = invertedIndex_to_txt(line)\n",
    "        words = clean(words)\n",
    "        txt = ' '.join(words)\n",
    "        abstracts_words.write(abstract_id+\" : \"+txt+\"\\n\")\n",
    "    abstracts_words.close()\n",
    "    abstracts.close()\n",
    "\n",
    "build_abstracts_words()"
   ]
  },
  {
   "cell_type": "code",
   "execution_count": null,
   "metadata": {},
   "outputs": [],
   "source": [
    "def LassoReg(alpha=0.1):\n",
    "    # train a regression model and make predictions\n",
    "    reg = Lasso(alpha=0.1)\n",
    "    reg.fit(X_train, y_train)\n",
    "    y_pred = reg.predict(X_test)\n",
    "    \n",
    "    # write the predictions to file\n",
    "    df_test['hindex'] = pd.Series(np.round_(y_pred, decimals=3))\n",
    "    df_test.loc[:,[\"author\",\"hindex\"]].to_csv('submission.csv', index=False)"
   ]
  }
 ],
 "metadata": {
  "interpreter": {
   "hash": "d190daf6c967f8d20238722b0f8124df8ccbc3ae5a4dde14ddcb79cb9594df45"
  },
  "kernelspec": {
   "display_name": "Python 3.9.7 64-bit ('nlp': conda)",
   "language": "python",
   "name": "python3"
  },
  "language_info": {
   "codemirror_mode": {
    "name": "ipython",
    "version": 3
   },
   "file_extension": ".py",
   "mimetype": "text/x-python",
   "name": "python",
   "nbconvert_exporter": "python",
   "pygments_lexer": "ipython3",
   "version": "3.9.7"
  },
  "orig_nbformat": 4
 },
 "nbformat": 4,
 "nbformat_minor": 2
}
